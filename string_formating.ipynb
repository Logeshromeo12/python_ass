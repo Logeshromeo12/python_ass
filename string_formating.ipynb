{
  "nbformat": 4,
  "nbformat_minor": 0,
  "metadata": {
    "colab": {
      "provenance": [],
      "authorship_tag": "ABX9TyMw13uwLTsNyjYM0ehc4XR/",
      "include_colab_link": true
    },
    "kernelspec": {
      "name": "python3",
      "display_name": "Python 3"
    },
    "language_info": {
      "name": "python"
    }
  },
  "cells": [
    {
      "cell_type": "markdown",
      "metadata": {
        "id": "view-in-github",
        "colab_type": "text"
      },
      "source": [
        "<a href=\"https://colab.research.google.com/github/Logeshromeo12/python_ass/blob/main/string_formating.ipynb\" target=\"_parent\"><img src=\"https://colab.research.google.com/assets/colab-badge.svg\" alt=\"Open In Colab\"/></a>"
      ]
    },
    {
      "cell_type": "code",
      "execution_count": 6,
      "metadata": {
        "colab": {
          "base_uri": "https://localhost:8080/"
        },
        "id": "FvxyVRksbumO",
        "outputId": "125cb7fd-7682-4329-d297-021c79033b0f"
      },
      "outputs": [
        {
          "output_type": "stream",
          "name": "stdout",
          "text": [
            "logesh likes coding\n"
          ]
        }
      ],
      "source": [
        "#stringtemplate\n",
        "from string import Template\n",
        "s=Template('$what likes $who')\n",
        "print(s.safe_substitute(who=\"coding\",what=\"logesh\"))"
      ]
    },
    {
      "cell_type": "code",
      "source": [
        "#f_string\n",
        "s='logesh'\n",
        "#for dict\n",
        "ss={\"name\":\"logeshwaran\"}\n",
        "print(f\"My name is {s}\")\n",
        "print(f\"My name is {ss['name']}\")"
      ],
      "metadata": {
        "colab": {
          "base_uri": "https://localhost:8080/"
        },
        "id": "Fli6RAuJcuZH",
        "outputId": "41d1b385-7a2f-4e9e-e325-02481b34d615"
      },
      "execution_count": 10,
      "outputs": [
        {
          "output_type": "stream",
          "name": "stdout",
          "text": [
            "My name is logesh\n",
            "My name is logeshwaran\n"
          ]
        }
      ]
    },
    {
      "cell_type": "code",
      "source": [
        "#format()\n",
        "s=\"logesh\"\n",
        "print(\"my name is {}\".format(s))"
      ],
      "metadata": {
        "colab": {
          "base_uri": "https://localhost:8080/"
        },
        "id": "BlyBuegZfvkl",
        "outputId": "8ab650b8-d567-493c-9a2b-7b1d7f912619"
      },
      "execution_count": 11,
      "outputs": [
        {
          "output_type": "stream",
          "name": "stdout",
          "text": [
            "my name is logesh\n"
          ]
        }
      ]
    },
    {
      "cell_type": "code",
      "source": [
        "#operator %\n",
        "# %d=integer\n",
        "# %f-float\n",
        "# %s=string\n",
        "# %x=hexadecimal\n",
        "# %o=octal\n",
        "name=\"king\"\n",
        "print(\"my name is %s\" %name)\n",
        "\n"
      ],
      "metadata": {
        "colab": {
          "base_uri": "https://localhost:8080/"
        },
        "id": "Y-5_Wfn1f69c",
        "outputId": "62025937-c1a1-4504-f7ee-da9b28740e1e"
      },
      "execution_count": 13,
      "outputs": [
        {
          "output_type": "stream",
          "name": "stdout",
          "text": [
            "my name is king\n"
          ]
        }
      ]
    }
  ]
}