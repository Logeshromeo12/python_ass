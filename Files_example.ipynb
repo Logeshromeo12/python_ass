{
  "nbformat": 4,
  "nbformat_minor": 0,
  "metadata": {
    "colab": {
      "provenance": [],
      "authorship_tag": "ABX9TyPATkpm6O2r4yKwhgrOMRSu",
      "include_colab_link": true
    },
    "kernelspec": {
      "name": "python3",
      "display_name": "Python 3"
    },
    "language_info": {
      "name": "python"
    }
  },
  "cells": [
    {
      "cell_type": "markdown",
      "metadata": {
        "id": "view-in-github",
        "colab_type": "text"
      },
      "source": [
        "<a href=\"https://colab.research.google.com/github/Logeshromeo12/python_ass/blob/main/Files_example.ipynb\" target=\"_parent\"><img src=\"https://colab.research.google.com/assets/colab-badge.svg\" alt=\"Open In Colab\"/></a>"
      ]
    },
    {
      "cell_type": "code",
      "execution_count": 4,
      "metadata": {
        "colab": {
          "base_uri": "https://localhost:8080/"
        },
        "id": "-louJ4o6Sncx",
        "outputId": "f54026da-5302-4cc9-bb80-a2dbce513838"
      },
      "outputs": [
        {
          "output_type": "stream",
          "name": "stdout",
          "text": [
            "Hi my name is logesh\n",
            "From october batch\n"
          ]
        }
      ],
      "source": [
        "#files\n",
        "a=open(\"a.txt\",\"w\")\n",
        "a.write(\"Hi my name is logesh\")\n",
        "a=open(\"a.txt\",\"a\")\n",
        "a.write(\"\\nFrom october batch\")\n",
        "a=open(\"a.txt\",\"r\")\n",
        "print(a.read())\n"
      ]
    }
  ]
}