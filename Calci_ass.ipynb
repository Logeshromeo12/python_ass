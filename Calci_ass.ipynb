{
  "nbformat": 4,
  "nbformat_minor": 0,
  "metadata": {
    "colab": {
      "provenance": [],
      "collapsed_sections": [],
      "authorship_tag": "ABX9TyPswx38AswaNGqv/7XOr25i",
      "include_colab_link": true
    },
    "kernelspec": {
      "name": "python3",
      "display_name": "Python 3"
    },
    "language_info": {
      "name": "python"
    }
  },
  "cells": [
    {
      "cell_type": "markdown",
      "metadata": {
        "id": "view-in-github",
        "colab_type": "text"
      },
      "source": [
        "<a href=\"https://colab.research.google.com/github/Logeshromeo12/python_ass/blob/main/Untitled0.ipynb\" target=\"_parent\"><img src=\"https://colab.research.google.com/assets/colab-badge.svg\" alt=\"Open In Colab\"/></a>"
      ]
    },
    {
      "cell_type": "code",
      "source": [
        "#simple calci assignment\n",
        "def add(a,b):\n",
        "  c=a+b\n",
        "  print(\"RESULT\",c)\n",
        "def sub(a,b):\n",
        "  c=a-b\n",
        "  print(\"RESULT\",c)\n",
        "def multi(a,b):\n",
        "  c=a*b\n",
        "  print(\"RESULT\",c)\n",
        "def div(a,b):\n",
        "  c=a/b\n",
        "  print(\"RESULT\",c)\n",
        "\n",
        "c=input(\"what you want to do? +,-,/,*:\")\n",
        "a=int(input(\"Enter the first no.:\"))\n",
        "b=int(input(\"enter the second no.:\"))\n",
        "if c==\"+\":\n",
        "  add(a,b)\n",
        "elif c==\"-\":\n",
        "  sub(a,b)\n",
        "elif c==\"*\":\n",
        "  multi(a,b)\n",
        "else:\n",
        "  div(a,b)\n",
        "\n",
        "\n"
      ],
      "metadata": {
        "colab": {
          "base_uri": "https://localhost:8080/"
        },
        "id": "1AYYOFeMsKT3",
        "outputId": "14ac1212-b729-490c-8c89-5bc52030c6d3"
      },
      "execution_count": 12,
      "outputs": [
        {
          "output_type": "stream",
          "name": "stdout",
          "text": [
            "what you want to do? +,-,/,*:/\n",
            "Enter the first no.:5\n",
            "enter the second no.:5\n",
            "RESULT 1.0\n"
          ]
        }
      ]
    }
  ]
}
