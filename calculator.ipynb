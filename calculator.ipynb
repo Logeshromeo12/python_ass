{
  "nbformat": 4,
  "nbformat_minor": 0,
  "metadata": {
    "colab": {
      "provenance": [],
      "collapsed_sections": [],
      "authorship_tag": "ABX9TyNy+kqONxHvpe3G3p/22DQy",
      "include_colab_link": true
    },
    "kernelspec": {
      "name": "python3",
      "display_name": "Python 3"
    },
    "language_info": {
      "name": "python"
    }
  },
  "cells": [
    {
      "cell_type": "markdown",
      "metadata": {
        "id": "view-in-github",
        "colab_type": "text"
      },
      "source": [
        "<a href=\"https://colab.research.google.com/github/Logeshromeo12/python_ass/blob/main/calculator.ipynb\" target=\"_parent\"><img src=\"https://colab.research.google.com/assets/colab-badge.svg\" alt=\"Open In Colab\"/></a>"
      ]
    },
    {
      "cell_type": "code",
      "source": [
        "#simple calci assignment\n",
        "def add(a,b):\n",
        "  c=a+b\n",
        "  print(\"RESULT\",c)\n",
        "def sub(a,b):\n",
        "  c=a-b\n",
        "  print(\"RESULT\",c)\n",
        "def multi(a,b):\n",
        "  c=a*b\n",
        "  print(\"RESULT\",c)\n",
        "def div(a,b):\n",
        "  c=a/b\n",
        "  print(\"RESULT\",c)\n",
        "\n",
        "c=input(\"what you want to do? +,-,/,*:\")\n",
        "a=int(input(\"Enter the first no.:\"))\n",
        "b=int(input(\"enter the second no.:\"))\n",
        "if c==\"+\":\n",
        "  add(a,b)\n",
        "elif c==\"-\":\n",
        "  sub(a,b)\n",
        "elif c==\"*\":\n",
        "  multi(a,b)\n",
        "elif c==\"/\":\n",
        "  div(a,b)\n",
        "else:\n",
        "  print(\"select correct symbol\")\n",
        "\n",
        "\n"
      ],
      "metadata": {
        "colab": {
          "base_uri": "https://localhost:8080/"
        },
        "id": "1AYYOFeMsKT3",
        "outputId": "2aad77bb-8665-426f-dd7a-42917bbb7968"
      },
      "execution_count": 2,
      "outputs": [
        {
          "output_type": "stream",
          "name": "stdout",
          "text": [
            "what you want to do? +,-,/,*:%\n",
            "Enter the first no.:1\n",
            "enter the second no.:1\n",
            "select correct symbol\n"
          ]
        }
      ]
    }
  ]
}